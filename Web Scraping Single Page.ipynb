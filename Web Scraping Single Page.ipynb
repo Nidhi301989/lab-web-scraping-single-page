{
 "cells": [
  {
   "cell_type": "markdown",
   "id": "6b166977",
   "metadata": {},
   "source": [
    "# Lab | Web Scraping Single Page"
   ]
  },
  {
   "cell_type": "code",
   "execution_count": 1,
   "id": "c0b18bc0",
   "metadata": {},
   "outputs": [
    {
     "name": "stdout",
     "output_type": "stream",
     "text": [
      "                 Song                               Artist\n",
      "0  A Bar Song (Tipsy)                            Shaboozey\n",
      "1  Birds Of A Feather                        Billie Eilish\n",
      "2     I Had Some Help  Post Malone Featuring Morgan Wallen\n",
      "3            Espresso                    Sabrina Carpenter\n",
      "4    Die With A Smile               Lady Gaga & Bruno Mars\n"
     ]
    }
   ],
   "source": [
    "import requests\n",
    "from bs4 import BeautifulSoup\n",
    "import pandas as pd\n",
    "\n",
    "url = \"https://www.billboard.com/charts/hot-100\"\n",
    "\n",
    "response = requests.get(url)\n",
    "response.raise_for_status() \n",
    "\n",
    "soup = BeautifulSoup(response.content, 'html.parser')\n",
    "\n",
    "songs = []\n",
    "artists = []\n",
    "\n",
    "for item in soup.find_all('li', class_='o-chart-results-list__item'):\n",
    "    song_tag = item.find('h3', class_='c-title')\n",
    "    artist_tag = item.find('span', class_='c-label')\n",
    "    if song_tag and artist_tag:\n",
    "        songs.append(song_tag.get_text(strip=True))\n",
    "        artists.append(artist_tag.get_text(strip=True))\n",
    "\n",
    "\n",
    "df = pd.DataFrame({\n",
    "    'Song': songs,\n",
    "    'Artist': artists\n",
    "})\n",
    "\n",
    "print(df.head())\n",
    "\n",
    "# Save to a CSV file for later use\n",
    "df.to_csv('billboard_top_100.csv', index=False)\n"
   ]
  },
  {
   "cell_type": "code",
   "execution_count": null,
   "id": "c7a4dafc",
   "metadata": {},
   "outputs": [],
   "source": []
  }
 ],
 "metadata": {
  "kernelspec": {
   "display_name": "Python 3 (ipykernel)",
   "language": "python",
   "name": "python3"
  },
  "language_info": {
   "codemirror_mode": {
    "name": "ipython",
    "version": 3
   },
   "file_extension": ".py",
   "mimetype": "text/x-python",
   "name": "python",
   "nbconvert_exporter": "python",
   "pygments_lexer": "ipython3",
   "version": "3.9.13"
  }
 },
 "nbformat": 4,
 "nbformat_minor": 5
}
